{
  "nbformat": 4,
  "nbformat_minor": 0,
  "metadata": {
    "colab": {
      "provenance": [],
      "authorship_tag": "ABX9TyPPdjWgydGkHApRRy32l2yG",
      "include_colab_link": true
    },
    "kernelspec": {
      "name": "python3",
      "display_name": "Python 3"
    },
    "language_info": {
      "name": "python"
    }
  },
  "cells": [
    {
      "cell_type": "markdown",
      "metadata": {
        "id": "view-in-github",
        "colab_type": "text"
      },
      "source": [
        "<a href=\"https://colab.research.google.com/github/gow504/GOWTHAM/blob/master/Use_a_pre_trained_convolution_neural_network_(VGG16)_for_image_classification_.ipynb\" target=\"_parent\"><img src=\"https://colab.research.google.com/assets/colab-badge.svg\" alt=\"Open In Colab\"/></a>"
      ]
    },
    {
      "source": [
        "import numpy as np\n",
        "import tensorflow as tf\n",
        "from tensorflow.keras.applications.vgg16 import VGG16, preprocess_input, decode_predictions\n",
        "from tensorflow.keras.preprocessing import image\n",
        "\n",
        "# Load the pre-trained VGG16 model with weights trained on ImageNet\n",
        "# We no longer need this line since model has not been defined yet.\n",
        "# del model\n",
        "model = VGG16(weights='imagenet')\n",
        "\n",
        "def classify_image(img_path):\n",
        "    # Load and preprocess the image\n",
        "    img = image.load_img(img_path, target_size=(224, 224))\n",
        "    img_array = image.img_to_array(img)\n",
        "    img_array = np.expand_dims(img_array, axis=0)\n",
        "    img_array = preprocess_input(img_array)\n",
        "\n",
        "    # Predict the class probabilities\n",
        "    predictions = model.predict(img_array)\n",
        "\n",
        "    # Decode and return the top 3 predicted classes\n",
        "    decoded_predictions = decode_predictions(predictions, top=3)[0]\n",
        "    return decoded_predictions\n",
        "\n",
        "# Example usage\n",
        "if __name__ == \"__main__\":\n",
        "    # I'm going to make this line a little more robust so we can run it in our example\n",
        "    # img_path = 'example.jpg'  # Provide a valid image path\n",
        "    # This will make sure we have an example image in our folder\n",
        "    !wget https://upload.wikimedia.org/wikipedia/commons/thumb/1/15/Red_Apple.jpg/265px-Red_Apple.jpg -O example.jpg\n",
        "    img_path = 'example.jpg'\n",
        "    predictions = classify_image(img_path)\n",
        "    for i, (imagenet_id, label, score) in enumerate(predictions):\n",
        "        print(f\"{i + 1}: {label} ({score:.2f})\")"
      ],
      "cell_type": "code",
      "metadata": {
        "colab": {
          "base_uri": "https://localhost:8080/"
        },
        "id": "OrBbrRJdgk41",
        "outputId": "8c6d98e4-968b-46d5-93bd-670d710f295a"
      },
      "execution_count": 2,
      "outputs": [
        {
          "output_type": "stream",
          "name": "stdout",
          "text": [
            "Downloading data from https://storage.googleapis.com/tensorflow/keras-applications/vgg16/vgg16_weights_tf_dim_ordering_tf_kernels.h5\n",
            "\u001b[1m553467096/553467096\u001b[0m \u001b[32m━━━━━━━━━━━━━━━━━━━━\u001b[0m\u001b[37m\u001b[0m \u001b[1m8s\u001b[0m 0us/step\n",
            "--2025-02-26 18:27:42--  https://upload.wikimedia.org/wikipedia/commons/thumb/1/15/Red_Apple.jpg/265px-Red_Apple.jpg\n",
            "Resolving upload.wikimedia.org (upload.wikimedia.org)... 208.80.154.240, 2620:0:861:ed1a::2:b\n",
            "Connecting to upload.wikimedia.org (upload.wikimedia.org)|208.80.154.240|:443... connected.\n",
            "HTTP request sent, awaiting response... 200 OK\n",
            "Length: 15777 (15K) [image/jpeg]\n",
            "Saving to: ‘example.jpg’\n",
            "\n",
            "example.jpg         100%[===================>]  15.41K  --.-KB/s    in 0s      \n",
            "\n",
            "2025-02-26 18:27:42 (176 MB/s) - ‘example.jpg’ saved [15777/15777]\n",
            "\n",
            "\u001b[1m1/1\u001b[0m \u001b[32m━━━━━━━━━━━━━━━━━━━━\u001b[0m\u001b[37m\u001b[0m \u001b[1m1s\u001b[0m 925ms/step\n",
            "Downloading data from https://storage.googleapis.com/download.tensorflow.org/data/imagenet_class_index.json\n",
            "\u001b[1m35363/35363\u001b[0m \u001b[32m━━━━━━━━━━━━━━━━━━━━\u001b[0m\u001b[37m\u001b[0m \u001b[1m0s\u001b[0m 0us/step\n",
            "1: pomegranate (0.46)\n",
            "2: banana (0.39)\n",
            "3: orange (0.07)\n"
          ]
        }
      ]
    },
    {
      "cell_type": "code",
      "source": [],
      "metadata": {
        "id": "EYFI9RtRgU9g"
      },
      "execution_count": null,
      "outputs": []
    }
  ]
}