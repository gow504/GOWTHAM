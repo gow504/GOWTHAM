{
  "nbformat": 4,
  "nbformat_minor": 0,
  "metadata": {
    "colab": {
      "provenance": [],
      "authorship_tag": "ABX9TyOhKCMzALAfnqpkfIk5+jIX",
      "include_colab_link": true
    },
    "kernelspec": {
      "name": "python3",
      "display_name": "Python 3"
    },
    "language_info": {
      "name": "python"
    }
  },
  "cells": [
    {
      "cell_type": "markdown",
      "metadata": {
        "id": "view-in-github",
        "colab_type": "text"
      },
      "source": [
        "<a href=\"https://colab.research.google.com/github/gow504/GOWTHAM/blob/master/_Implement_one_hot_encoding_of_words_or_characters_.ipynb\" target=\"_parent\"><img src=\"https://colab.research.google.com/assets/colab-badge.svg\" alt=\"Open In Colab\"/></a>"
      ]
    },
    {
      "cell_type": "code",
      "execution_count": 1,
      "metadata": {
        "colab": {
          "base_uri": "https://localhost:8080/"
        },
        "id": "kYgm_6ZnhP4U",
        "outputId": "f1a95d06-913b-4476-d54a-29e4bc56366d"
      },
      "outputs": [
        {
          "output_type": "stream",
          "name": "stdout",
          "text": [
            "Word-level encoding:\n",
            "hello: [1. 0.]\n",
            "world: [0. 1.]\n",
            "\n",
            "Character-level encoding:\n",
            "h: [0. 0. 0. 1. 0. 0. 0. 0.]\n",
            "e: [0. 0. 1. 0. 0. 0. 0. 0.]\n",
            "l: [0. 0. 0. 0. 1. 0. 0. 0.]\n",
            "o: [0. 0. 0. 0. 0. 1. 0. 0.]\n",
            " : [1. 0. 0. 0. 0. 0. 0. 0.]\n",
            "w: [0. 0. 0. 0. 0. 0. 0. 1.]\n",
            "r: [0. 0. 0. 0. 0. 0. 1. 0.]\n",
            "d: [0. 1. 0. 0. 0. 0. 0. 0.]\n"
          ]
        }
      ],
      "source": [
        "import numpy as np\n",
        "from collections import Counter\n",
        "\n",
        "def one_hot_encoding(data, mode='word'):\n",
        "    \"\"\"\n",
        "    Performs one-hot encoding on words or characters.\n",
        "    :param data: Input text (string) to be encoded\n",
        "    :param mode: 'word' for word-level encoding, 'char' for character-level encoding\n",
        "    :return: Dictionary of one-hot encoded vectors\n",
        "    \"\"\"\n",
        "    if mode == 'word':\n",
        "        tokens = data.split()\n",
        "    elif mode == 'char':\n",
        "        tokens = list(data)\n",
        "    else:\n",
        "        raise ValueError(\"Mode must be 'word' or 'char'\")\n",
        "\n",
        "    vocab = sorted(set(tokens))  # Get unique words/characters\n",
        "    token_to_index = {token: i for i, token in enumerate(vocab)}\n",
        "\n",
        "    one_hot_vectors = {}\n",
        "    for token in tokens:\n",
        "        one_hot = np.zeros(len(vocab))\n",
        "        one_hot[token_to_index[token]] = 1\n",
        "        one_hot_vectors[token] = one_hot\n",
        "\n",
        "    return one_hot_vectors\n",
        "\n",
        "# Example usage:\n",
        "text = \"hello world hello\"\n",
        "word_encoded = one_hot_encoding(text, mode='word')\n",
        "char_encoded = one_hot_encoding(text, mode='char')\n",
        "\n",
        "print(\"Word-level encoding:\")\n",
        "for word, encoding in word_encoded.items():\n",
        "    print(f\"{word}: {encoding}\")\n",
        "\n",
        "print(\"\\nCharacter-level encoding:\")\n",
        "for char, encoding in char_encoded.items():\n",
        "    print(f\"{char}: {encoding}\")\n"
      ]
    },
    {
      "cell_type": "code",
      "source": [],
      "metadata": {
        "id": "Hc8xpVXkhRQM"
      },
      "execution_count": null,
      "outputs": []
    }
  ]
}